{
 "cells": [
  {
   "cell_type": "code",
   "execution_count": 11,
   "id": "bf5f995e-44cb-415a-b02f-e6024f7be8fa",
   "metadata": {},
   "outputs": [],
   "source": [
    "import urllib\n",
    "text = urllib.request.urlopen(\"https://www.gutenberg.org/cache/epub/10/pg10.txt\")\n",
    "pg10 = text.read().decode('utf-8')"
   ]
  },
  {
   "cell_type": "code",
   "execution_count": 17,
   "id": "1f4ad9b2-a1da-481e-97a3-a895cdb4ea66",
   "metadata": {},
   "outputs": [
    {
     "name": "stdout",
     "output_type": "stream",
     "text": [
      "1. 99968\n"
     ]
    }
   ],
   "source": [
    "number_lines = len(pg10.splitlines())\n",
    "print(\"1. \" + str(number_lines))"
   ]
  },
  {
   "cell_type": "code",
   "execution_count": 18,
   "id": "fe4a600b-9f08-478f-8900-ca56537890c6",
   "metadata": {},
   "outputs": [
    {
     "name": "stdout",
     "output_type": "stream",
     "text": [
      "2. 824538\n"
     ]
    }
   ],
   "source": [
    "words_split = pg10.split()\n",
    "total_words = len(words_split)\n",
    "print(\"2. \" + str(total_words))"
   ]
  },
  {
   "cell_type": "code",
   "execution_count": 19,
   "id": "80276e45-7190-4214-a340-30e5e88f934f",
   "metadata": {},
   "outputs": [
    {
     "name": "stdout",
     "output_type": "stream",
     "text": [
      "3. 113\n"
     ]
    }
   ],
   "source": [
    "count = pg10.lower().count(\"apostle\")\n",
    "print(\"3. \" + str(count))"
   ]
  },
  {
   "cell_type": "code",
   "execution_count": 20,
   "id": "4fd1bd84-6855-41a2-bf6b-ace17476115d",
   "metadata": {},
   "outputs": [
    {
     "name": "stdout",
     "output_type": "stream",
     "text": [
      "4. the\n"
     ]
    }
   ],
   "source": [
    "text = pg10.split()\n",
    "count = {}\n",
    "for i in text:\n",
    "    lower = i.lower()\n",
    "    if lower in count:\n",
    "        count[lower] += 1\n",
    "    else:\n",
    "        count[lower] = 1\n",
    "most_common_word = \"\"\n",
    "word_count = 0 \n",
    "for i in count:\n",
    "    if count[i] > word_count:\n",
    "        most_common_word = i\n",
    "        word_count = count[i]\n",
    "\n",
    "print(\"4. \" + (most_common_word))\n",
    "        \n",
    "        "
   ]
  },
  {
   "cell_type": "code",
   "execution_count": null,
   "id": "2ea0b51d-ced5-40be-8bd3-cecae93fc3f2",
   "metadata": {},
   "outputs": [],
   "source": []
  }
 ],
 "metadata": {
  "kernelspec": {
   "display_name": "Python [conda env:base] *",
   "language": "python",
   "name": "conda-base-py"
  },
  "language_info": {
   "codemirror_mode": {
    "name": "ipython",
    "version": 3
   },
   "file_extension": ".py",
   "mimetype": "text/x-python",
   "name": "python",
   "nbconvert_exporter": "python",
   "pygments_lexer": "ipython3",
   "version": "3.12.7"
  }
 },
 "nbformat": 4,
 "nbformat_minor": 5
}
